{
  "nbformat": 4,
  "nbformat_minor": 0,
  "metadata": {
    "colab": {
      "provenance": [],
      "collapsed_sections": [
        "nLo-1zRjfpLQ",
        "r2CLd2qggR0J",
        "ZDPTYxNchH-o",
        "04gHmrV3iFUt",
        "KEdguyEbWhRh"
      ],
      "toc_visible": true
    },
    "kernelspec": {
      "name": "python3",
      "display_name": "Python 3"
    },
    "language_info": {
      "name": "python"
    }
  },
  "cells": [
    {
      "cell_type": "markdown",
      "source": [
        "Problem Statement: \n",
        "\n",
        "What symptoms / conditions are associated with people who died after receiving the COVID-19 Vaccine?\n",
        "\n",
        "The problem I am trying to solve is classification, my label is column 'DIED' and my features are:\n",
        "\n",
        "**SYMPTOM1**\n",
        "\n",
        "**SYMPTOM2**\n",
        "\n",
        "**SYMPTOM3**\n",
        "\n",
        "**SYMPTOM4**\n",
        "\n",
        "**SYMPTOM5**\n",
        "\n",
        "**ALLERGIES**\n",
        "\n",
        "**HOSPITAL**\n",
        "\n",
        "**AGE_YRS**\n",
        "\n",
        "**BIRTH_DEFECT**\n",
        "\n",
        "**CUR_ILL**\n",
        "\n",
        "**VAX_DATE**\n",
        "\n",
        "**OTHER_MEDS**\n",
        "\n",
        "**SEX**\n",
        "\n",
        "**FORM_VERS**`\n",
        "\n",
        "And my evaluation metric will be my F1 Score."
      ],
      "metadata": {
        "id": "5-MP8HZp7M3W"
      }
    },
    {
      "cell_type": "markdown",
      "source": [
        "# Import libraries for Unsupervised learning and classification\n"
      ],
      "metadata": {
        "id": "nLo-1zRjfpLQ"
      }
    },
    {
      "cell_type": "code",
      "source": [
        "import numpy as np\n",
        "import pandas as pd\n",
        "import matplotlib.pyplot as plt\n",
        "import matplotlib.pyplot as plt\n",
        "import seaborn as sns\n",
        "from sklearn.model_selection import train_test_split\n",
        "from sklearn.preprocessing import LabelEncoder\n",
        "from sklearn.preprocessing import StandardScaler\n",
        "from sklearn.svm import LinearSVC\n",
        "from sklearn.metrics import accuracy_score, precision_score, recall_score,f1_score\n",
        "from sklearn.utils import resample\n",
        "from sklearn.linear_model import LogisticRegression\n",
        "from sklearn.metrics import classification_report\n",
        "from sklearn.metrics import plot_confusion_matrix\n",
        "from sklearn.neighbors import KNeighborsClassifier\n",
        "from sklearn.cluster import KMeans\n",
        "from sklearn.metrics import silhouette_score\n"
      ],
      "metadata": {
        "id": "HaSMGvAZf0jn"
      },
      "execution_count": null,
      "outputs": []
    },
    {
      "cell_type": "markdown",
      "source": [
        "# Data Preprocessing and data load:"
      ],
      "metadata": {
        "id": "D37zpx97f511"
      }
    },
    {
      "cell_type": "code",
      "source": [
        "with open('2021VAERSDATA.csv', encoding=\"utf8\", errors='ignore') as csv_file:\n",
        "    vaccinationData = pd.read_csv(csv_file)\n",
        "symptomData     = pd.read_csv('2021VAERSSYMPTOMS.csv')\n",
        "vaccineTypeData = pd.read_csv('2021VAERSVAX.csv')"
      ],
      "metadata": {
        "colab": {
          "base_uri": "https://localhost:8080/"
        },
        "id": "_cusaikCf9iP",
        "outputId": "c901702c-ff40-42b5-c0a1-6a0019c3d816"
      },
      "execution_count": null,
      "outputs": [
        {
          "output_type": "stream",
          "name": "stderr",
          "text": [
            "/usr/local/lib/python3.8/dist-packages/IPython/core/interactiveshell.py:3326: DtypeWarning: Columns (7,12,23) have mixed types.Specify dtype option on import or set low_memory=False.\n",
            "  exec(code_obj, self.user_global_ns, self.user_ns)\n"
          ]
        }
      ]
    },
    {
      "cell_type": "code",
      "source": [
        "vaccinationData.info()"
      ],
      "metadata": {
        "colab": {
          "base_uri": "https://localhost:8080/"
        },
        "id": "LSceEDDTf_GN",
        "outputId": "5a7fc200-88db-473f-ae5d-85f787225655"
      },
      "execution_count": null,
      "outputs": [
        {
          "output_type": "stream",
          "name": "stdout",
          "text": [
            "<class 'pandas.core.frame.DataFrame'>\n",
            "RangeIndex: 34121 entries, 0 to 34120\n",
            "Data columns (total 35 columns):\n",
            " #   Column        Non-Null Count  Dtype  \n",
            "---  ------        --------------  -----  \n",
            " 0   VAERS_ID      34121 non-null  int64  \n",
            " 1   RECVDATE      34121 non-null  object \n",
            " 2   STATE         28550 non-null  object \n",
            " 3   AGE_YRS       30933 non-null  float64\n",
            " 4   CAGE_YR       26791 non-null  float64\n",
            " 5   CAGE_MO       83 non-null     float64\n",
            " 6   SEX           34121 non-null  object \n",
            " 7   RPT_DATE      63 non-null     object \n",
            " 8   SYMPTOM_TEXT  34119 non-null  object \n",
            " 9   DIED          1957 non-null   object \n",
            " 10  DATEDIED      1798 non-null   object \n",
            " 11  L_THREAT      1259 non-null   object \n",
            " 12  ER_VISIT      11 non-null     object \n",
            " 13  HOSPITAL      4387 non-null   object \n",
            " 14  HOSPDAYS      2857 non-null   float64\n",
            " 15  X_STAY        52 non-null     object \n",
            " 16  DISABLE       870 non-null    object \n",
            " 17  RECOVD        31264 non-null  object \n",
            " 18  VAX_DATE      32622 non-null  object \n",
            " 19  ONSET_DATE    32258 non-null  object \n",
            " 20  NUMDAYS       31194 non-null  float64\n",
            " 21  LAB_DATA      15080 non-null  object \n",
            " 22  V_ADMINBY     34121 non-null  object \n",
            " 23  V_FUNDBY      64 non-null     object \n",
            " 24  OTHER_MEDS    20239 non-null  object \n",
            " 25  CUR_ILL       16068 non-null  object \n",
            " 26  HISTORY       22375 non-null  object \n",
            " 27  PRIOR_VAX     1434 non-null   object \n",
            " 28  SPLTTYPE      8223 non-null   object \n",
            " 29  FORM_VERS     34121 non-null  int64  \n",
            " 30  TODAYS_DATE   33922 non-null  object \n",
            " 31  BIRTH_DEFECT  51 non-null     object \n",
            " 32  OFC_VISIT     5404 non-null   object \n",
            " 33  ER_ED_VISIT   5529 non-null   object \n",
            " 34  ALLERGIES     18587 non-null  object \n",
            "dtypes: float64(5), int64(2), object(28)\n",
            "memory usage: 9.1+ MB\n"
          ]
        }
      ]
    },
    {
      "cell_type": "code",
      "source": [
        "symptomData.info()"
      ],
      "metadata": {
        "colab": {
          "base_uri": "https://localhost:8080/"
        },
        "id": "BH-ODnQegAtd",
        "outputId": "da52d721-5493-417a-fe07-0fc65eaf3682"
      },
      "execution_count": null,
      "outputs": [
        {
          "output_type": "stream",
          "name": "stdout",
          "text": [
            "<class 'pandas.core.frame.DataFrame'>\n",
            "RangeIndex: 48110 entries, 0 to 48109\n",
            "Data columns (total 11 columns):\n",
            " #   Column           Non-Null Count  Dtype  \n",
            "---  ------           --------------  -----  \n",
            " 0   VAERS_ID         48110 non-null  int64  \n",
            " 1   SYMPTOM1         48110 non-null  object \n",
            " 2   SYMPTOMVERSION1  48110 non-null  float64\n",
            " 3   SYMPTOM2         39351 non-null  object \n",
            " 4   SYMPTOMVERSION2  39351 non-null  float64\n",
            " 5   SYMPTOM3         31542 non-null  object \n",
            " 6   SYMPTOMVERSION3  31542 non-null  float64\n",
            " 7   SYMPTOM4         24444 non-null  object \n",
            " 8   SYMPTOMVERSION4  24444 non-null  float64\n",
            " 9   SYMPTOM5         18560 non-null  object \n",
            " 10  SYMPTOMVERSION5  18560 non-null  float64\n",
            "dtypes: float64(5), int64(1), object(5)\n",
            "memory usage: 4.0+ MB\n"
          ]
        }
      ]
    },
    {
      "cell_type": "code",
      "source": [
        "vaccineTypeData.info()"
      ],
      "metadata": {
        "colab": {
          "base_uri": "https://localhost:8080/"
        },
        "id": "nk_d4KirgCOl",
        "outputId": "8176fee2-4364-4f2d-868f-fa1880b571a9"
      },
      "execution_count": null,
      "outputs": [
        {
          "output_type": "stream",
          "name": "stdout",
          "text": [
            "<class 'pandas.core.frame.DataFrame'>\n",
            "RangeIndex: 34630 entries, 0 to 34629\n",
            "Data columns (total 8 columns):\n",
            " #   Column           Non-Null Count  Dtype \n",
            "---  ------           --------------  ----- \n",
            " 0   VAERS_ID         34630 non-null  int64 \n",
            " 1   VAX_TYPE         34630 non-null  object\n",
            " 2   VAX_MANU         34630 non-null  object\n",
            " 3   VAX_LOT          23513 non-null  object\n",
            " 4   VAX_DOSE_SERIES  34568 non-null  object\n",
            " 5   VAX_ROUTE        26229 non-null  object\n",
            " 6   VAX_SITE         26687 non-null  object\n",
            " 7   VAX_NAME         34630 non-null  object\n",
            "dtypes: int64(1), object(7)\n",
            "memory usage: 2.1+ MB\n"
          ]
        }
      ]
    },
    {
      "cell_type": "markdown",
      "source": [
        "Merge the tables based upon VAERSID index column."
      ],
      "metadata": {
        "id": "V9oWqR-5gN7M"
      }
    },
    {
      "cell_type": "code",
      "source": [
        "data = pd.merge_ordered(vaccinationData,\n",
        "                        symptomData,\n",
        "                        how='inner',\n",
        "                        on = 'VAERS_ID'\n",
        "                        )\n",
        "data.info()"
      ],
      "metadata": {
        "colab": {
          "base_uri": "https://localhost:8080/"
        },
        "id": "ZZbmtIhygDsZ",
        "outputId": "89d2b85e-ca4a-49cb-cbfe-334134d866d8"
      },
      "execution_count": null,
      "outputs": [
        {
          "output_type": "stream",
          "name": "stdout",
          "text": [
            "<class 'pandas.core.frame.DataFrame'>\n",
            "Int64Index: 48110 entries, 0 to 48109\n",
            "Data columns (total 45 columns):\n",
            " #   Column           Non-Null Count  Dtype  \n",
            "---  ------           --------------  -----  \n",
            " 0   VAERS_ID         48110 non-null  int64  \n",
            " 1   RECVDATE         48110 non-null  object \n",
            " 2   STATE            41341 non-null  object \n",
            " 3   AGE_YRS          44372 non-null  float64\n",
            " 4   CAGE_YR          38257 non-null  float64\n",
            " 5   CAGE_MO          106 non-null    float64\n",
            " 6   SEX              48110 non-null  object \n",
            " 7   RPT_DATE         88 non-null     object \n",
            " 8   SYMPTOM_TEXT     48108 non-null  object \n",
            " 9   DIED             2918 non-null   object \n",
            " 10  DATEDIED         2737 non-null   object \n",
            " 11  L_THREAT         2667 non-null   object \n",
            " 12  ER_VISIT         15 non-null     object \n",
            " 13  HOSPITAL         8740 non-null   object \n",
            " 14  HOSPDAYS         6193 non-null   float64\n",
            " 15  X_STAY           79 non-null     object \n",
            " 16  DISABLE          1663 non-null   object \n",
            " 17  RECOVD           44596 non-null  object \n",
            " 18  VAX_DATE         46365 non-null  object \n",
            " 19  ONSET_DATE       45960 non-null  object \n",
            " 20  NUMDAYS          44363 non-null  float64\n",
            " 21  LAB_DATA         24834 non-null  object \n",
            " 22  V_ADMINBY        48110 non-null  object \n",
            " 23  V_FUNDBY         89 non-null     object \n",
            " 24  OTHER_MEDS       30609 non-null  object \n",
            " 25  CUR_ILL          24296 non-null  object \n",
            " 26  HISTORY          33591 non-null  object \n",
            " 27  PRIOR_VAX        2177 non-null   object \n",
            " 28  SPLTTYPE         11198 non-null  object \n",
            " 29  FORM_VERS        48110 non-null  int64  \n",
            " 30  TODAYS_DATE      47845 non-null  object \n",
            " 31  BIRTH_DEFECT     74 non-null     object \n",
            " 32  OFC_VISIT        8470 non-null   object \n",
            " 33  ER_ED_VISIT      9991 non-null   object \n",
            " 34  ALLERGIES        28025 non-null  object \n",
            " 35  SYMPTOM1         48110 non-null  object \n",
            " 36  SYMPTOMVERSION1  48110 non-null  float64\n",
            " 37  SYMPTOM2         39351 non-null  object \n",
            " 38  SYMPTOMVERSION2  39351 non-null  float64\n",
            " 39  SYMPTOM3         31542 non-null  object \n",
            " 40  SYMPTOMVERSION3  31542 non-null  float64\n",
            " 41  SYMPTOM4         24444 non-null  object \n",
            " 42  SYMPTOMVERSION4  24444 non-null  float64\n",
            " 43  SYMPTOM5         18560 non-null  object \n",
            " 44  SYMPTOMVERSION5  18560 non-null  float64\n",
            "dtypes: float64(10), int64(2), object(33)\n",
            "memory usage: 16.9+ MB\n"
          ]
        }
      ]
    },
    {
      "cell_type": "markdown",
      "source": [
        "# Label encoding, Normalization, and feature extraction for \"DIED\"\n"
      ],
      "metadata": {
        "id": "r2CLd2qggR0J"
      }
    },
    {
      "cell_type": "code",
      "source": [
        "le = LabelEncoder()\n",
        "for column in symptomData:\n",
        "    symptomData[column]=le.fit_transform(symptomData[column])\n",
        "for column in vaccineTypeData:\n",
        "    vaccineTypeData[column]=le.fit_transform(vaccineTypeData[column])   \n",
        "for column in vaccinationData:\n",
        "    vaccinationData[column]=le.fit_transform(vaccinationData[column])\n",
        "for column in data:\n",
        "    data[column]=le.fit_transform(data[column])"
      ],
      "metadata": {
        "id": "eC4wahVEgWOP"
      },
      "execution_count": null,
      "outputs": []
    },
    {
      "cell_type": "code",
      "source": [
        "label=data['DIED']\n",
        "features=data[['SYMPTOM1', 'SYMPTOM2', 'SYMPTOM3', 'SYMPTOM4', 'SYMPTOM5', 'ALLERGIES', 'HOSPITAL', 'AGE_YRS', 'BIRTH_DEFECT', 'CUR_ILL', 'VAX_DATE', 'OTHER_MEDS', 'SEX', 'FORM_VERS', 'HISTORY','PRIOR_VAX','RECVDATE']].copy()"
      ],
      "metadata": {
        "id": "iLeKzo8RgY9Y"
      },
      "execution_count": null,
      "outputs": []
    },
    {
      "cell_type": "markdown",
      "source": [
        "## Check for balanced label for data analysis"
      ],
      "metadata": {
        "id": "ZDPTYxNchH-o"
      }
    },
    {
      "cell_type": "markdown",
      "source": [
        "Label is unbalanced."
      ],
      "metadata": {
        "id": "zXQPlgTchbDm"
      }
    },
    {
      "cell_type": "code",
      "source": [
        "sns.countplot(label)"
      ],
      "metadata": {
        "colab": {
          "base_uri": "https://localhost:8080/",
          "height": 334
        },
        "id": "jrVOfOdmg8ct",
        "outputId": "54ca3b0d-96c4-4ef6-b2e9-bd62e7a5e8a4"
      },
      "execution_count": null,
      "outputs": [
        {
          "output_type": "stream",
          "name": "stderr",
          "text": [
            "/usr/local/lib/python3.8/dist-packages/seaborn/_decorators.py:36: FutureWarning: Pass the following variable as a keyword arg: x. From version 0.12, the only valid positional argument will be `data`, and passing other arguments without an explicit keyword will result in an error or misinterpretation.\n",
            "  warnings.warn(\n"
          ]
        },
        {
          "output_type": "execute_result",
          "data": {
            "text/plain": [
              "<matplotlib.axes._subplots.AxesSubplot at 0x7f27f29b55e0>"
            ]
          },
          "metadata": {},
          "execution_count": 129
        },
        {
          "output_type": "display_data",
          "data": {
            "text/plain": [
              "<Figure size 432x288 with 1 Axes>"
            ],
            "image/png": "[encoded data removed]"
          },
          "metadata": {
            "needs_background": "light"
          }
        }
      ]
    },
    {
      "cell_type": "markdown",
      "source": [
        "Resampling label to balance data for training and testing (Under Sampling)"
      ],
      "metadata": {
        "id": "W910pOzThhyk"
      }
    },
    {
      "cell_type": "code",
      "source": [
        "data_undersampling = data[(data['DIED']==0)].copy()\n",
        "data_undersampling = data[(data.DIED==0)].copy()\n",
        "\n",
        "print((data_undersampling.DIED == 0).sum())\n",
        "\n",
        "undersampled_data = resample(data[(data.DIED==1)], n_samples = 2918, random_state = 0)\n",
        "data_undersampling = data_undersampling.append(undersampled_data)\n",
        "\n",
        "print(data_undersampling.DIED.count())\n",
        "print((data_undersampling.DIED == 0).sum())\n",
        "print((data_undersampling.DIED == 1).sum())\n",
        "\n",
        "\n",
        "undersampled_data_features = data_undersampling[['SYMPTOM1', 'SYMPTOM2', 'SYMPTOM3', 'SYMPTOM4', 'SYMPTOM5', 'ALLERGIES', 'HOSPITAL', 'AGE_YRS', 'BIRTH_DEFECT', 'CUR_ILL', 'VAX_DATE', 'OTHER_MEDS', 'SEX', 'FORM_VERS', 'HISTORY','PRIOR_VAX','RECVDATE']].copy()\n",
        "undersampled_data_label = data_undersampling.DIED"
      ],
      "metadata": {
        "colab": {
          "base_uri": "https://localhost:8080/"
        },
        "id": "TLcACeu-hoo0",
        "outputId": "6f054525-239f-4971-cb7c-f41d1475d627"
      },
      "execution_count": null,
      "outputs": [
        {
          "output_type": "stream",
          "name": "stdout",
          "text": [
            "2918\n",
            "5836\n",
            "2918\n",
            "2918\n"
          ]
        }
      ]
    },
    {
      "cell_type": "markdown",
      "source": [
        "Resampling label to balance data for training and testing (Over Sampling)"
      ],
      "metadata": {
        "id": "NdSUMX_1Vfr2"
      }
    },
    {
      "cell_type": "code",
      "source": [
        "data_oversampling  = data[(data.DIED==1)].copy()\n",
        "\n",
        "print((data_oversampling.DIED == 1).sum())\n",
        "\n",
        "oversampled_data  = resample(data[(data.DIED==0)], n_samples = 45192, random_state = 0)\n",
        "data_oversampling  = data_oversampling.append(oversampled_data, ignore_index = True)\n",
        "\n",
        "print(data_oversampling.DIED.count())\n",
        "print((data_oversampling.DIED == 0).sum())\n",
        "print((data_oversampling.DIED == 1).sum())\n",
        "\n",
        "oversampled_data_features = data_oversampling[['SYMPTOM1', 'SYMPTOM2', 'SYMPTOM3', 'SYMPTOM4', 'SYMPTOM5', 'ALLERGIES', 'HOSPITAL', 'AGE_YRS', 'BIRTH_DEFECT', 'CUR_ILL', 'VAX_DATE', 'OTHER_MEDS', 'SEX', 'FORM_VERS', 'HISTORY','PRIOR_VAX','RECVDATE']].copy()\n",
        "oversampled_data_label = data_oversampling.DIED"
      ],
      "metadata": {
        "colab": {
          "base_uri": "https://localhost:8080/"
        },
        "id": "SLMErCfHVfGO",
        "outputId": "2319f72f-627b-4611-bcef-1d9db6ece16c"
      },
      "execution_count": null,
      "outputs": [
        {
          "output_type": "stream",
          "name": "stdout",
          "text": [
            "45192\n",
            "90384\n",
            "45192\n",
            "45192\n"
          ]
        }
      ]
    },
    {
      "cell_type": "markdown",
      "source": [
        "Balanced labels and features."
      ],
      "metadata": {
        "id": "te-ScyQwiBFe"
      }
    },
    {
      "cell_type": "code",
      "source": [
        "sns.countplot(undersampled_data_label)"
      ],
      "metadata": {
        "colab": {
          "base_uri": "https://localhost:8080/",
          "height": 334
        },
        "id": "bTbQUTjgh7Bp",
        "outputId": "68f65c42-674d-4a6f-adff-0dcbe05bb978"
      },
      "execution_count": null,
      "outputs": [
        {
          "output_type": "stream",
          "name": "stderr",
          "text": [
            "/usr/local/lib/python3.8/dist-packages/seaborn/_decorators.py:36: FutureWarning: Pass the following variable as a keyword arg: x. From version 0.12, the only valid positional argument will be `data`, and passing other arguments without an explicit keyword will result in an error or misinterpretation.\n",
            "  warnings.warn(\n"
          ]
        },
        {
          "output_type": "execute_result",
          "data": {
            "text/plain": [
              "<matplotlib.axes._subplots.AxesSubplot at 0x7f27f28f65e0>"
            ]
          },
          "metadata": {},
          "execution_count": 132
        },
        {
          "output_type": "display_data",
          "data": {
            "text/plain": [
              "<Figure size 432x288 with 1 Axes>"
            ],
            "image/png": "[encoded data removed]"
          },
          "metadata": {
            "needs_background": "light"
          }
        }
      ]
    },
    {
      "cell_type": "code",
      "source": [
        "sns.countplot(oversampled_data_label)"
      ],
      "metadata": {
        "colab": {
          "base_uri": "https://localhost:8080/",
          "height": 334
        },
        "id": "e1M1c-nYVy7n",
        "outputId": "0f18deb7-8367-4c3a-945f-4c8a6ec7d961"
      },
      "execution_count": null,
      "outputs": [
        {
          "output_type": "stream",
          "name": "stderr",
          "text": [
            "/usr/local/lib/python3.8/dist-packages/seaborn/_decorators.py:36: FutureWarning: Pass the following variable as a keyword arg: x. From version 0.12, the only valid positional argument will be `data`, and passing other arguments without an explicit keyword will result in an error or misinterpretation.\n",
            "  warnings.warn(\n"
          ]
        },
        {
          "output_type": "execute_result",
          "data": {
            "text/plain": [
              "<matplotlib.axes._subplots.AxesSubplot at 0x7f27f291f9a0>"
            ]
          },
          "metadata": {},
          "execution_count": 133
        },
        {
          "output_type": "display_data",
          "data": {
            "text/plain": [
              "<Figure size 432x288 with 1 Axes>"
            ],
            "image/png": "[encoded data removed]"
          },
          "metadata": {
            "needs_background": "light"
          }
        }
      ]
    },
    {
      "cell_type": "markdown",
      "source": [
        "Re-normalize the new data"
      ],
      "metadata": {
        "id": "EUC66f9pkWvb"
      }
    },
    {
      "cell_type": "code",
      "source": [
        "scaler = StandardScaler()\n",
        "scaler.fit(undersampled_data_features)\n",
        "scaled_undersampled_data_features = scaler.transform(undersampled_data_features)\n",
        "\n",
        "scaler = StandardScaler()\n",
        "scaler.fit(oversampled_data_features)\n",
        "scaled_oversampled_data_features = scaler.transform(oversampled_data_features)"
      ],
      "metadata": {
        "id": "dyajfgDQkWEU"
      },
      "execution_count": null,
      "outputs": []
    },
    {
      "cell_type": "markdown",
      "source": [
        "# Under Sampled Data Analysis"
      ],
      "metadata": {
        "id": "_mjXYsUlWEr-"
      }
    },
    {
      "cell_type": "markdown",
      "source": [
        "## Data Visualization"
      ],
      "metadata": {
        "id": "04gHmrV3iFUt"
      }
    },
    {
      "cell_type": "markdown",
      "source": [
        "**High correlations:**\n",
        "\n",
        "SYM1, SYM2\n",
        "\n",
        "SYM2, SYM3\n",
        "\n",
        "SYM4, SYM5\n",
        "\n",
        "\n",
        "**Medium correlations:**\n",
        "\n",
        "ALLERGIES, OTHER_MED\n",
        "\n",
        "ALLERGIES, CURR_ILL\n",
        "\n",
        "**Conclusion:**\n",
        "\n",
        "I only need SYM1 in order to analyze the data.\n"
      ],
      "metadata": {
        "id": "nXtby8VLisde"
      }
    },
    {
      "cell_type": "code",
      "source": [
        "f,ax = plt.subplots(figsize=(18, 18))\n",
        "sns.heatmap(undersampled_data_features.corr(),annot=True, linewidths=.5, fmt= '.1f', ax=ax)"
      ],
      "metadata": {
        "colab": {
          "base_uri": "https://localhost:8080/",
          "height": 1000
        },
        "id": "78YUphXPiaom",
        "outputId": "4472c711-9af9-417e-9dac-308c44d621d2"
      },
      "execution_count": null,
      "outputs": [
        {
          "output_type": "execute_result",
          "data": {
            "text/plain": [
              "<matplotlib.axes._subplots.AxesSubplot at 0x7f27f2960550>"
            ]
          },
          "metadata": {},
          "execution_count": 135
        },
        {
          "output_type": "display_data",
          "data": {
            "text/plain": [
              "<Figure size 1296x1296 with 2 Axes>"
            ],
            "image/png": "[encoded data removed]"
          },
          "metadata": {
            "needs_background": "light"
          }
        }
      ]
    },
    {
      "cell_type": "markdown",
      "source": [
        "## Split Data, and train model."
      ],
      "metadata": {
        "id": "kwhKUUn-nioy"
      }
    },
    {
      "cell_type": "markdown",
      "source": [
        "There is a correlation between the people who died and the symptoms that they exhibited before death.\n",
        "\n",
        "What were those symptoms?\n",
        "\n",
        "Dropping symptoms(2-5) from the list that show a high correlation with SYMPTOM1 from heat map."
      ],
      "metadata": {
        "id": "Y3dlPOrQnVnz"
      }
    },
    {
      "cell_type": "code",
      "source": [
        "undersampled_data_features = undersampled_data_features.drop(columns = ['SYMPTOM2', 'SYMPTOM3', 'SYMPTOM4', 'SYMPTOM5'])"
      ],
      "metadata": {
        "id": "Uw46_FpDFBlG"
      },
      "execution_count": null,
      "outputs": []
    },
    {
      "cell_type": "code",
      "source": [
        "X_training, X_testing, Y_training, Y_testing = train_test_split(undersampled_data_features, undersampled_data_label, test_size=0.3)"
      ],
      "metadata": {
        "id": "7uxz-Wponoaj"
      },
      "execution_count": null,
      "outputs": []
    },
    {
      "cell_type": "markdown",
      "source": [
        "### Logistical regression on data to form baseline, omitting features that show high correlation with others.\n"
      ],
      "metadata": {
        "id": "Qtxc8mFDqPu3"
      }
    },
    {
      "cell_type": "code",
      "source": [
        "model = LogisticRegression(max_iter = 10000)\n",
        "model.fit(X_training,Y_training)\n",
        "\n",
        "Y_testing_predicted=model.predict(X_testing)\n",
        "Y_training_predicted=model.predict(X_training)"
      ],
      "metadata": {
        "id": "QqbE7zUnqT2l"
      },
      "execution_count": null,
      "outputs": []
    },
    {
      "cell_type": "markdown",
      "source": [
        "Given the f1_score bellow, we can assume the data is accurate and precise enough to continue further classification on, and there are properly categorized results."
      ],
      "metadata": {
        "id": "eTwWN6s6FVR5"
      }
    },
    {
      "cell_type": "code",
      "source": [
        "print('LGC result: Test Data')\n",
        "print('f1_score: ', f1_score(Y_testing,Y_testing_predicted,average='weighted'))\n",
        "print()\n",
        "print('LGC result: Training Data')\n",
        "print('f1_score: ', f1_score(Y_training,Y_training_predicted,average='weighted'))"
      ],
      "metadata": {
        "colab": {
          "base_uri": "https://localhost:8080/"
        },
        "id": "CmVI4eOJF0jJ",
        "outputId": "26f31a4d-b71b-4d57-93c3-7c4733953094"
      },
      "execution_count": null,
      "outputs": [
        {
          "output_type": "stream",
          "name": "stdout",
          "text": [
            "LGC result: Test Data\n",
            "f1_score:  0.7735167167952275\n",
            "\n",
            "LGC result: Training Data\n",
            "f1_score:  0.7842524206407181\n"
          ]
        }
      ]
    },
    {
      "cell_type": "markdown",
      "source": [
        "Classification report from baseline:\n",
        "The weighted avg of the data is .76, our data is balanced and can be used for further investigation."
      ],
      "metadata": {
        "id": "vc-s1LfuGnfZ"
      }
    },
    {
      "cell_type": "code",
      "source": [
        "print(classification_report(Y_testing, Y_testing_predicted))\n",
        "print(classification_report(Y_training, Y_training_predicted))"
      ],
      "metadata": {
        "colab": {
          "base_uri": "https://localhost:8080/"
        },
        "id": "vc1wrQhmGqgH",
        "outputId": "ef2f3d45-a0e0-4132-9bec-df8e1b2c5ecc"
      },
      "execution_count": null,
      "outputs": [
        {
          "output_type": "stream",
          "name": "stdout",
          "text": [
            "              precision    recall  f1-score   support\n",
            "\n",
            "           0       0.76      0.81      0.78       892\n",
            "           1       0.79      0.74      0.76       859\n",
            "\n",
            "    accuracy                           0.77      1751\n",
            "   macro avg       0.77      0.77      0.77      1751\n",
            "weighted avg       0.77      0.77      0.77      1751\n",
            "\n",
            "              precision    recall  f1-score   support\n",
            "\n",
            "           0       0.76      0.83      0.79      2026\n",
            "           1       0.81      0.74      0.78      2059\n",
            "\n",
            "    accuracy                           0.78      4085\n",
            "   macro avg       0.79      0.78      0.78      4085\n",
            "weighted avg       0.79      0.78      0.78      4085\n",
            "\n"
          ]
        }
      ]
    },
    {
      "cell_type": "markdown",
      "source": [
        "## Data Classification\n"
      ],
      "metadata": {
        "id": "arjcQpVoqGEc"
      }
    },
    {
      "cell_type": "markdown",
      "source": [
        "### Linear SVC Classification"
      ],
      "metadata": {
        "id": "N82LtgEpHG-A"
      }
    },
    {
      "cell_type": "code",
      "source": [
        "svc_model = LinearSVC(max_iter=10000)\n",
        "svc_model.fit(X_training, Y_training)\n",
        "svc_model_prediction=svc_model.predict(X_testing)"
      ],
      "metadata": {
        "colab": {
          "base_uri": "https://localhost:8080/"
        },
        "id": "TFXn_XUJqJWR",
        "outputId": "ea1f2c61-9597-46c8-b364-ee53ef808688"
      },
      "execution_count": null,
      "outputs": [
        {
          "output_type": "stream",
          "name": "stderr",
          "text": [
            "/usr/local/lib/python3.8/dist-packages/sklearn/svm/_base.py:1206: ConvergenceWarning: Liblinear failed to converge, increase the number of iterations.\n",
            "  warnings.warn(\n"
          ]
        }
      ]
    },
    {
      "cell_type": "markdown",
      "source": [
        "A low F1 score means a different model needs to be used.\n",
        "Or the data needs to be oversampled for the deaths."
      ],
      "metadata": {
        "id": "B44WIF1ZRkxi"
      }
    },
    {
      "cell_type": "code",
      "source": [
        "print('SVC result:')\n",
        "print('f1_score: ', f1_score(Y_testing,svc_model_prediction,average='weighted'))"
      ],
      "metadata": {
        "colab": {
          "base_uri": "https://localhost:8080/"
        },
        "id": "VG6FAIQVHP-s",
        "outputId": "fd86fb37-7fa3-40c4-8a68-8064136671b5"
      },
      "execution_count": null,
      "outputs": [
        {
          "output_type": "stream",
          "name": "stdout",
          "text": [
            "SVC result:\n",
            "f1_score:  0.3526997579031476\n"
          ]
        }
      ]
    },
    {
      "cell_type": "markdown",
      "source": [
        "### KNN Classification"
      ],
      "metadata": {
        "id": "kUKpXw5-HsAF"
      }
    },
    {
      "cell_type": "markdown",
      "source": [
        "Find how many miss classified data points there are in the set."
      ],
      "metadata": {
        "id": "QXxUQjK5Gbf8"
      }
    },
    {
      "cell_type": "code",
      "source": [
        "modelKNN = KNeighborsClassifier(n_neighbors=5)\n",
        "modelKNN.fit(X_training,Y_training)"
      ],
      "metadata": {
        "colab": {
          "base_uri": "https://localhost:8080/"
        },
        "id": "KuSfcFhTHxv7",
        "outputId": "ecd0c5ab-fdfb-4b46-9871-08f8a6b1bec9"
      },
      "execution_count": null,
      "outputs": [
        {
          "output_type": "execute_result",
          "data": {
            "text/plain": [
              "KNeighborsClassifier()"
            ]
          },
          "metadata": {},
          "execution_count": 143
        }
      ]
    },
    {
      "cell_type": "code",
      "source": [
        "Y_training_predicted_KNN=modelKNN.predict(X_training)\n",
        "Y_testing_predicted_KNN=modelKNN.predict(X_testing)"
      ],
      "metadata": {
        "id": "AvGtge_8J8Y9"
      },
      "execution_count": null,
      "outputs": []
    },
    {
      "cell_type": "code",
      "source": [
        "plt.scatter(X_training['SYMPTOM1'][Y_training!=Y_training_predicted_KNN],X_training['SYMPTOM1'][Y_training!=Y_training_predicted_KNN],label='Wrong classification',color='green')\n",
        "plt.scatter(X_training['SYMPTOM1'][Y_training==0].mean(),X_training['SYMPTOM1'][Y_training==0].mean(),c='orange')\n",
        "plt.scatter(X_training['SYMPTOM1'][Y_training==1].mean(),X_training['SYMPTOM1'][Y_training==1].mean(),c='orange')"
      ],
      "metadata": {
        "colab": {
          "base_uri": "https://localhost:8080/",
          "height": 284
        },
        "id": "kbyrXJ6oJ9hs",
        "outputId": "9cea44b6-7f45-455b-9597-941928aed815"
      },
      "execution_count": null,
      "outputs": [
        {
          "output_type": "execute_result",
          "data": {
            "text/plain": [
              "<matplotlib.collections.PathCollection at 0x7f27fd8b5e80>"
            ]
          },
          "metadata": {},
          "execution_count": 145
        },
        {
          "output_type": "display_data",
          "data": {
            "text/plain": [
              "<Figure size 432x288 with 1 Axes>"
            ],
            "image/png": "[encoded data removed]"
          },
          "metadata": {
            "needs_background": "light"
          }
        }
      ]
    },
    {
      "cell_type": "code",
      "source": [
        "KNN_MISCLASSIFIED_TRAINING = X_training['SYMPTOM1'][Y_training!=Y_training_predicted_KNN].count()\n",
        "print(\"KNN Misclassified:     \",KNN_MISCLASSIFIED_TRAINING)\n",
        "print(\"X_training data count: \", X_training['ALLERGIES'].count())\n",
        "print(\"Percent Misclassified: \", KNN_MISCLASSIFIED_TRAINING/X_training['ALLERGIES'].count()*100, '%')"
      ],
      "metadata": {
        "colab": {
          "base_uri": "https://localhost:8080/"
        },
        "id": "L5J7D6IwHpFv",
        "outputId": "51a75073-baaf-4c5f-ebbc-5bc5b00f15dc"
      },
      "execution_count": null,
      "outputs": [
        {
          "output_type": "stream",
          "name": "stdout",
          "text": [
            "KNN Misclassified:      771\n",
            "X_training data count:  4085\n",
            "Percent Misclassified:  18.87392900856793 %\n"
          ]
        }
      ]
    },
    {
      "cell_type": "markdown",
      "source": [
        "conclusion: \n",
        "\n",
        "20% of the data is being misinterpreted / misclassified, so a larger data set needs to be used."
      ],
      "metadata": {
        "id": "c3awzdvLJVll"
      }
    },
    {
      "cell_type": "markdown",
      "source": [
        "# Over Sampled Data Analysis\n"
      ],
      "metadata": {
        "id": "8GDs4p5bWV_X"
      }
    },
    {
      "cell_type": "markdown",
      "source": [
        "## Data Visualization"
      ],
      "metadata": {
        "id": "b2YYF7pmWhRf"
      }
    },
    {
      "cell_type": "markdown",
      "source": [
        "**High correlations:**\n",
        "\n",
        "SYM1, SYM2\n",
        "\n",
        "SYM2, SYM3\n",
        "\n",
        "SYM4, SYM5\n",
        "\n",
        "\n",
        "**Medium correlations:**\n",
        "\n",
        "ALLERGIES, OTHER_MED\n",
        "\n",
        "ALLERGIES, CURR_ILL\n",
        "\n",
        "**Conclusion:**\n",
        "\n",
        "I only need SYM1 in order to analyze the data.\n"
      ],
      "metadata": {
        "id": "ndTJTkWPWhRf"
      }
    },
    {
      "cell_type": "code",
      "source": [
        "f,ax = plt.subplots(figsize=(18, 18))\n",
        "sns.heatmap(oversampled_data_features.corr(),annot=True, linewidths=.5, fmt= '.1f', ax=ax)"
      ],
      "metadata": {
        "colab": {
          "base_uri": "https://localhost:8080/",
          "height": 1000
        },
        "outputId": "d21cf1eb-90cb-48ff-edbd-5c6990e8f2ea",
        "id": "i5EmSuKkWhRg"
      },
      "execution_count": null,
      "outputs": [
        {
          "output_type": "execute_result",
          "data": {
            "text/plain": [
              "<matplotlib.axes._subplots.AxesSubplot at 0x7f27fd5bd280>"
            ]
          },
          "metadata": {},
          "execution_count": 147
        },
        {
          "output_type": "display_data",
          "data": {
            "text/plain": [
              "<Figure size 1296x1296 with 2 Axes>"
            ],
            "image/png": "[encoded data removed]"
          },
          "metadata": {
            "needs_background": "light"
          }
        }
      ]
    },
    {
      "cell_type": "markdown",
      "source": [
        "## Split Data, and train model."
      ],
      "metadata": {
        "id": "bjEwxVKpWhRg"
      }
    },
    {
      "cell_type": "markdown",
      "source": [
        "There is a correlation between the people who died and the symptoms that they exhibited before death.\n",
        "\n",
        "What were those symptoms?\n",
        "\n",
        "Dropping symptoms(2-5) from the list that show a high correlation with SYMPTOM1 from heat map."
      ],
      "metadata": {
        "id": "GA2ka_rwWhRg"
      }
    },
    {
      "cell_type": "code",
      "source": [
        "oversampled_data_features = oversampled_data_features.drop(columns = ['SYMPTOM2', 'SYMPTOM3', 'SYMPTOM4', 'SYMPTOM5'])"
      ],
      "metadata": {
        "id": "qCGyfegKWhRg"
      },
      "execution_count": null,
      "outputs": []
    },
    {
      "cell_type": "code",
      "source": [
        "X_training, X_testing, Y_training, Y_testing = train_test_split(oversampled_data_features, oversampled_data_label, test_size=0.3)"
      ],
      "metadata": {
        "id": "pW8ex9pSWhRg"
      },
      "execution_count": null,
      "outputs": []
    },
    {
      "cell_type": "markdown",
      "source": [
        "### Logistical regression on data to form baseline, omitting features that show high correlation with others.\n"
      ],
      "metadata": {
        "id": "1H2tuW4dWhRg"
      }
    },
    {
      "cell_type": "code",
      "source": [
        "model = LogisticRegression(max_iter = 10000)\n",
        "model.fit(X_training,Y_training)\n",
        "\n",
        "Y_testing_predicted=model.predict(X_testing)\n",
        "Y_training_predicted=model.predict(X_training)"
      ],
      "metadata": {
        "id": "tStNIy4OWhRg"
      },
      "execution_count": null,
      "outputs": []
    },
    {
      "cell_type": "code",
      "source": [
        "print('LGC result: Test Data')\n",
        "print('f1_score: ', f1_score(Y_testing,Y_testing_predicted,average='weighted'))\n",
        "print()\n",
        "print('LGC result: Training Data')\n",
        "print('f1_score: ', f1_score(Y_training,Y_training_predicted,average='weighted'))"
      ],
      "metadata": {
        "colab": {
          "base_uri": "https://localhost:8080/"
        },
        "outputId": "907ab4fd-8b11-48fc-96c4-7dc99989411a",
        "id": "jQLQD2ahWhRg"
      },
      "execution_count": null,
      "outputs": [
        {
          "output_type": "stream",
          "name": "stdout",
          "text": [
            "LGC result: Test Data\n",
            "f1_score:  0.7807236851801865\n",
            "\n",
            "LGC result: Training Data\n",
            "f1_score:  0.7797837599148557\n"
          ]
        }
      ]
    },
    {
      "cell_type": "markdown",
      "source": [
        "Classification report from baseline:"
      ],
      "metadata": {
        "id": "Ab8TattiWhRg"
      }
    },
    {
      "cell_type": "code",
      "source": [
        "print(classification_report(Y_testing, Y_testing_predicted))\n",
        "print(classification_report(Y_training, Y_training_predicted))"
      ],
      "metadata": {
        "colab": {
          "base_uri": "https://localhost:8080/"
        },
        "outputId": "55eefe03-3b8a-4259-c4ee-aab102e810ae",
        "id": "VN7nT4YNWhRh"
      },
      "execution_count": null,
      "outputs": [
        {
          "output_type": "stream",
          "name": "stdout",
          "text": [
            "              precision    recall  f1-score   support\n",
            "\n",
            "           0       0.75      0.83      0.79     13406\n",
            "           1       0.82      0.73      0.77     13710\n",
            "\n",
            "    accuracy                           0.78     27116\n",
            "   macro avg       0.78      0.78      0.78     27116\n",
            "weighted avg       0.78      0.78      0.78     27116\n",
            "\n",
            "              precision    recall  f1-score   support\n",
            "\n",
            "           0       0.76      0.83      0.79     31786\n",
            "           1       0.81      0.73      0.77     31482\n",
            "\n",
            "    accuracy                           0.78     63268\n",
            "   macro avg       0.78      0.78      0.78     63268\n",
            "weighted avg       0.78      0.78      0.78     63268\n",
            "\n"
          ]
        }
      ]
    },
    {
      "cell_type": "markdown",
      "source": [
        "## Data Classification\n"
      ],
      "metadata": {
        "id": "D9gJ9UraWhRh"
      }
    },
    {
      "cell_type": "markdown",
      "source": [
        "### Linear SVC Classification"
      ],
      "metadata": {
        "id": "KEdguyEbWhRh"
      }
    },
    {
      "cell_type": "code",
      "source": [
        "svc_model = LinearSVC(max_iter = 1000)\n",
        "svc_model.fit(X_training, Y_training)\n",
        "svc_model_prediction=svc_model.predict(X_testing)"
      ],
      "metadata": {
        "colab": {
          "base_uri": "https://localhost:8080/"
        },
        "outputId": "0621ccd3-1dbd-40e7-817d-9165b9daf936",
        "id": "TiphEe1WWhRh"
      },
      "execution_count": null,
      "outputs": [
        {
          "output_type": "stream",
          "name": "stderr",
          "text": [
            "/usr/local/lib/python3.8/dist-packages/sklearn/svm/_base.py:1206: ConvergenceWarning: Liblinear failed to converge, increase the number of iterations.\n",
            "  warnings.warn(\n"
          ]
        }
      ]
    },
    {
      "cell_type": "markdown",
      "source": [
        "Higher F1 score means the oversampled data is the best."
      ],
      "metadata": {
        "id": "UetMX1UCWhRh"
      }
    },
    {
      "cell_type": "code",
      "source": [
        "print('SVC result:')\n",
        "print('f1_score: ', f1_score(Y_testing,svc_model_prediction,average='weighted'))"
      ],
      "metadata": {
        "colab": {
          "base_uri": "https://localhost:8080/"
        },
        "outputId": "50c67f3e-67b4-4163-82b1-857cc8824d87",
        "id": "LCQaEXyhWhRh"
      },
      "execution_count": null,
      "outputs": [
        {
          "output_type": "stream",
          "name": "stdout",
          "text": [
            "SVC result:\n",
            "f1_score:  0.7214994090746107\n"
          ]
        }
      ]
    },
    {
      "cell_type": "markdown",
      "source": [
        "From the confusion matrix bellow, we can tell that a fraction of the data was miss classified, and a strong majority of the data 10000+ records. Were classified as they should be. The true positives and true negatives out weigh the miss classified results."
      ],
      "metadata": {
        "id": "JnfPrXoLLpR1"
      }
    },
    {
      "cell_type": "code",
      "source": [
        "plot_confusion_matrix(svc_model,X_testing,Y_testing)"
      ],
      "metadata": {
        "colab": {
          "base_uri": "https://localhost:8080/",
          "height": 354
        },
        "outputId": "1ab29b5d-992f-4004-bda2-263628f51ad1",
        "id": "0iZkhDDXWhRi"
      },
      "execution_count": null,
      "outputs": [
        {
          "output_type": "stream",
          "name": "stderr",
          "text": [
            "/usr/local/lib/python3.8/dist-packages/sklearn/utils/deprecation.py:87: FutureWarning: Function plot_confusion_matrix is deprecated; Function `plot_confusion_matrix` is deprecated in 1.0 and will be removed in 1.2. Use one of the class methods: ConfusionMatrixDisplay.from_predictions or ConfusionMatrixDisplay.from_estimator.\n",
            "  warnings.warn(msg, category=FutureWarning)\n"
          ]
        },
        {
          "output_type": "execute_result",
          "data": {
            "text/plain": [
              "<sklearn.metrics._plot.confusion_matrix.ConfusionMatrixDisplay at 0x7f27f3b07dc0>"
            ]
          },
          "metadata": {},
          "execution_count": 155
        },
        {
          "output_type": "display_data",
          "data": {
            "text/plain": [
              "<Figure size 432x288 with 2 Axes>"
            ],
            "image/png": "[encoded data removed]"
          },
          "metadata": {
            "needs_background": "light"
          }
        }
      ]
    },
    {
      "cell_type": "markdown",
      "source": [
        "### KNN Classification"
      ],
      "metadata": {
        "id": "NSKFgpleWhRi"
      }
    },
    {
      "cell_type": "code",
      "source": [
        "modelKNN = KNeighborsClassifier(n_neighbors=5)\n",
        "modelKNN.fit(X_training,Y_training)\n",
        "modelKNN_prediction = modelKNN.predict(X_testing)"
      ],
      "metadata": {
        "id": "DZrCAmdiLHL8"
      },
      "execution_count": null,
      "outputs": []
    },
    {
      "cell_type": "code",
      "source": [
        "Y_training_predicted_KNN=modelKNN.predict(X_training)\n",
        "Y_testing_predicted_KNN=modelKNN.predict(X_testing)"
      ],
      "metadata": {
        "id": "C0yf9LNBLHL9"
      },
      "execution_count": null,
      "outputs": []
    },
    {
      "cell_type": "markdown",
      "source": [
        "Visualization of misclassified records."
      ],
      "metadata": {
        "id": "WtcviFJ1LWDq"
      }
    },
    {
      "cell_type": "code",
      "source": [
        "plt.scatter(X_training['SYMPTOM1'][Y_training!=Y_training_predicted_KNN],X_training['SYMPTOM1'][Y_training!=Y_training_predicted_KNN],label='Wrong classification',color='green')\n",
        "plt.scatter(X_training['SYMPTOM1'][Y_training==0].mean(),X_training['SYMPTOM1'][Y_training==0].mean(),c='orange')\n",
        "plt.scatter(X_training['SYMPTOM1'][Y_training==1].mean(),X_training['SYMPTOM1'][Y_training==1].mean(),c='orange')"
      ],
      "metadata": {
        "colab": {
          "base_uri": "https://localhost:8080/",
          "height": 284
        },
        "outputId": "c1fbdfc5-b52c-4847-8694-921987bda066",
        "id": "0TMVy7nnLHL9"
      },
      "execution_count": null,
      "outputs": [
        {
          "output_type": "execute_result",
          "data": {
            "text/plain": [
              "<matplotlib.collections.PathCollection at 0x7f27f2509970>"
            ]
          },
          "metadata": {},
          "execution_count": 158
        },
        {
          "output_type": "display_data",
          "data": {
            "text/plain": [
              "<Figure size 432x288 with 1 Axes>"
            ],
            "image/png": "[encoded data removed]"
          },
          "metadata": {
            "needs_background": "light"
          }
        }
      ]
    },
    {
      "cell_type": "code",
      "source": [
        "KNN_MISCLASSIFIED_TRAINING = X_training['SYMPTOM1'][Y_training!=Y_training_predicted_KNN].count()\n",
        "print(\"KNN Misclassified:     \",KNN_MISCLASSIFIED_TRAINING)\n",
        "print(\"X_training data count: \", X_training['ALLERGIES'].count())\n",
        "print(\"Percent Misclassified: \", KNN_MISCLASSIFIED_TRAINING/X_training['ALLERGIES'].count()*100, '%')"
      ],
      "metadata": {
        "colab": {
          "base_uri": "https://localhost:8080/"
        },
        "outputId": "3b11457c-a5c5-4ebc-9522-4d3988e98672",
        "id": "9c0UIMXSLHL9"
      },
      "execution_count": null,
      "outputs": [
        {
          "output_type": "stream",
          "name": "stdout",
          "text": [
            "KNN Misclassified:      3020\n",
            "X_training data count:  63268\n",
            "Percent Misclassified:  4.77334513498135 %\n"
          ]
        }
      ]
    },
    {
      "cell_type": "code",
      "source": [
        "print('f1_score: ', f1_score(Y_testing,modelKNN_prediction,average='weighted'))"
      ],
      "metadata": {
        "colab": {
          "base_uri": "https://localhost:8080/"
        },
        "id": "2YM5zPWoMxoQ",
        "outputId": "d201f9c6-74d6-4c28-bba8-28cb3055d7b7"
      },
      "execution_count": null,
      "outputs": [
        {
          "output_type": "stream",
          "name": "stdout",
          "text": [
            "f1_score:  0.9313235531758575\n"
          ]
        }
      ]
    },
    {
      "cell_type": "markdown",
      "source": [
        "A much better result from oversampling, so we will use this for our data clustering."
      ],
      "metadata": {
        "id": "GlgYqHbHLN0-"
      }
    },
    {
      "cell_type": "markdown",
      "source": [
        "# Unsupervised Data Clustering (KMeans):\n",
        "The KNN model for the over sampled results show that there is a strong accuracy and precision behind this model. It only missclassified 5% of the data compared to 20% for the undersampled data. This shows that KNN classification with the oversampled results should be used for the Unsupervised learning portion since the data is properly classified 95% of the time. Which will give the machine learning algorithm ample data to teach itself with.\n"
      ],
      "metadata": {
        "id": "ZYb4ms3YEzGl"
      }
    },
    {
      "cell_type": "code",
      "source": [
        "X_training = X_training.values\n",
        "X_testing = X_testing.values"
      ],
      "metadata": {
        "id": "L03A5z9SWDx7"
      },
      "execution_count": null,
      "outputs": []
    },
    {
      "cell_type": "code",
      "source": [
        "X_testing.shape"
      ],
      "metadata": {
        "colab": {
          "base_uri": "https://localhost:8080/"
        },
        "id": "0SnxwyglUPqv",
        "outputId": "5ead6750-4987-4252-96cd-fcb72af7bb08"
      },
      "execution_count": null,
      "outputs": [
        {
          "output_type": "execute_result",
          "data": {
            "text/plain": [
              "(27116, 13)"
            ]
          },
          "metadata": {},
          "execution_count": 162
        }
      ]
    },
    {
      "cell_type": "code",
      "source": [
        "X_training.shape"
      ],
      "metadata": {
        "colab": {
          "base_uri": "https://localhost:8080/"
        },
        "id": "dm__GTGaVOXw",
        "outputId": "58018043-8979-453f-9832-f51f559338e0"
      },
      "execution_count": null,
      "outputs": [
        {
          "output_type": "execute_result",
          "data": {
            "text/plain": [
              "(63268, 13)"
            ]
          },
          "metadata": {},
          "execution_count": 163
        }
      ]
    },
    {
      "cell_type": "code",
      "source": [
        "\n",
        "sse=[]\n",
        "for k in range(2, 7):\n",
        "  print(k)\n",
        "  kmeans = KMeans(n_clusters=k, init= \"random\")\n",
        "  kmeans.fit(X_training,Y_training)\n",
        "  sse.append(kmeans.inertia_)\n",
        "plt.subplot(1,2,1)\n",
        "plt.plot([i for i in range(2,7)],sse)\n",
        "plt.grid()\n",
        "# plt.subplot(1,2,2)\n",
        "# plt.plot([i for i in range(2,15)],slc,color='red')\n",
        "# plt.grid()"
      ],
      "metadata": {
        "colab": {
          "base_uri": "https://localhost:8080/",
          "height": 368
        },
        "id": "5_HnGcjGYH1s",
        "outputId": "810b80a6-c178-4d28-ec19-1c88bc42829b"
      },
      "execution_count": null,
      "outputs": [
        {
          "output_type": "stream",
          "name": "stdout",
          "text": [
            "2\n",
            "3\n",
            "4\n",
            "5\n",
            "6\n"
          ]
        },
        {
          "output_type": "display_data",
          "data": {
            "text/plain": [
              "<Figure size 432x288 with 1 Axes>"
            ],
            "image/png": "[encoded data removed]"
          },
          "metadata": {
            "needs_background": "light"
          }
        }
      ]
    },
    {
      "cell_type": "code",
      "source": [
        "from sklearn.metrics import silhouette_score\n",
        "\n",
        "\n",
        "slc=[]\n",
        "for k in range(2, 7):\n",
        "  print(k)\n",
        "  kmeans = KMeans(n_clusters=k, init= \"random\")\n",
        "  kmeans.fit(X_training,Y_training)\n",
        "  slc.append(silhouette_score(X_training, kmeans.labels_, sample_size=35000, random_state=10))\n",
        "plt.subplot(1,2,1)\n",
        "plt.plot([i for i in range(2,7)],slc)\n",
        "plt.grid()"
      ],
      "metadata": {
        "colab": {
          "base_uri": "https://localhost:8080/",
          "height": 357
        },
        "id": "tnMtSiSjmZGq",
        "outputId": "c2d21281-0381-4d04-e8be-da5d24d6311a"
      },
      "execution_count": null,
      "outputs": [
        {
          "output_type": "stream",
          "name": "stdout",
          "text": [
            "2\n",
            "3\n",
            "4\n",
            "5\n",
            "6\n"
          ]
        },
        {
          "output_type": "display_data",
          "data": {
            "text/plain": [
              "<Figure size 432x288 with 1 Axes>"
            ],
            "image/png": "[encoded data removed]"
          },
          "metadata": {
            "needs_background": "light"
          }
        }
      ]
    },
    {
      "cell_type": "markdown",
      "source": [
        "Best K = 4"
      ],
      "metadata": {
        "id": "eNcPIDwvo-l1"
      }
    },
    {
      "cell_type": "code",
      "metadata": {
        "id": "1uRTrTAd4ec6"
      },
      "source": [
        "kmeans = KMeans(n_clusters=4, init= \"random\")\n",
        "kmeans.fit(X_training,Y_training)\n",
        "centroids = kmeans.cluster_centers_\n",
        "centroid_array = np.array(centroids).astype(int)\n",
        "labels = kmeans.labels_\n",
        "\n",
        "\n",
        "y_pred = kmeans.predict(X_testing)\n"
      ],
      "execution_count": null,
      "outputs": []
    },
    {
      "cell_type": "code",
      "source": [
        "centroids[0]"
      ],
      "metadata": {
        "colab": {
          "base_uri": "https://localhost:8080/"
        },
        "id": "_fJ_4n8tuIQ8",
        "outputId": "320316b2-4beb-46af-c221-2f9417851107"
      },
      "execution_count": null,
      "outputs": [
        {
          "output_type": "execute_result",
          "data": {
            "text/plain": [
              "array([9.88528596e+02, 6.87572725e+03, 8.33782907e-01, 8.13207225e+01,\n",
              "       9.99419538e-01, 3.88596258e+03, 1.23690306e+02, 1.43848235e+04,\n",
              "       4.73827978e-01, 9.92419845e-01, 1.05476105e+04, 1.31043323e+03,\n",
              "       3.64969099e+01])"
            ]
          },
          "metadata": {},
          "execution_count": 167
        }
      ]
    },
    {
      "cell_type": "markdown",
      "source": [
        "Im not sure how to do KNN classification on these centroids, I would love to learn in the future."
      ],
      "metadata": {
        "id": "VIlGh8D7yowK"
      }
    },
    {
      "cell_type": "code",
      "source": [
        "labels.shape"
      ],
      "metadata": {
        "colab": {
          "base_uri": "https://localhost:8080/"
        },
        "id": "ds6asvTCu7em",
        "outputId": "b73e5882-2171-4aa9-ef76-28ebd79ef0de"
      },
      "execution_count": null,
      "outputs": [
        {
          "output_type": "execute_result",
          "data": {
            "text/plain": [
              "(63268,)"
            ]
          },
          "metadata": {},
          "execution_count": 168
        }
      ]
    },
    {
      "cell_type": "code",
      "metadata": {
        "colab": {
          "base_uri": "https://localhost:8080/"
        },
        "id": "5VihtKP86RJT",
        "outputId": "4f1e534c-50fd-4e73-b06c-eae6c3b46403"
      },
      "source": [
        "\n",
        "print('KMeans result:')\n",
        "\n",
        "print('f1_score: ', f1_score(Y_testing,y_pred,average='weighted'))\n"
      ],
      "execution_count": null,
      "outputs": [
        {
          "output_type": "stream",
          "name": "stdout",
          "text": [
            "KMeans result:\n",
            "f1_score:  0.331508367568963\n"
          ]
        }
      ]
    },
    {
      "cell_type": "markdown",
      "source": [
        "To improve this f1_score would take some time, and modification to the original data.\n",
        "This is obviously worse than what was predicted with KNN classification.\n",
        "I tried SOM to classify the data, but the error quant, was 1500. Which is much greater than anything that would feasibly work under those conditions."
      ],
      "metadata": {
        "id": "8sFuOaNasIhF"
      }
    },
    {
      "cell_type": "markdown",
      "source": [
        "# Results and Conclussion"
      ],
      "metadata": {
        "id": "6KhUNHI4H2cC"
      }
    },
    {
      "cell_type": "markdown",
      "source": [
        "In conclusion, the data to support the classification results for KNN were shown for the oversampled data set. Implementing the same results on the centroids produced from KMeans was more difficult than expected. In order to improve this algorithm, time would need to be spent on figuring out how to do a KNN analysis on the clusters produced by KMeans. Although, from the initial tests, it can be seen that a 93% f1_score for the training data was expected.\n",
        "Recieving a score 1/3 the size of that was far from perfect.\n",
        "From the data we can tell that KNN classified the data correctly as it relates to my label \"DIED\". The undersampled data failed to capture a wide enough data selection to compete with the over sampling and was removed from the testing parameters. From the heat plots I was able to fix any unbalanced data, and the heatmaps showed which \"features\" were correlated with eachother and could be omitted. The SVC models produced unfavorable results the first time which lead me to resample my data set and try again with KNN classifier to get my final results."
      ],
      "metadata": {
        "id": "mASaus7OsulB"
      }
    }
  ]
}